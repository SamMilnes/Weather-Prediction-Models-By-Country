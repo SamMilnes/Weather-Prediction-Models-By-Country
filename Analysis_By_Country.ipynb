{
  "nbformat": 4,
  "nbformat_minor": 0,
  "metadata": {
    "colab": {
      "provenance": [],
      "collapsed_sections": [
        "oLI0V-dysKTu",
        "qvtCZaRHAt5d",
        "u9B8DsswwsmC",
        "7_5qtoAtwwf4"
      ],
      "authorship_tag": "ABX9TyOwLwIVi7+3Lyvk1UE9IaHZ",
      "include_colab_link": true
    },
    "kernelspec": {
      "name": "python3",
      "display_name": "Python 3"
    },
    "language_info": {
      "name": "python"
    }
  },
  "cells": [
    {
      "cell_type": "markdown",
      "metadata": {
        "id": "view-in-github",
        "colab_type": "text"
      },
      "source": [
        "<a href=\"https://colab.research.google.com/github/SamMilnes/Weather-Prediction-Models-By-Country/blob/main/Analysis_By_Country.ipynb\" target=\"_parent\"><img src=\"https://colab.research.google.com/assets/colab-badge.svg\" alt=\"Open In Colab\"/></a>"
      ]
    },
    {
      "cell_type": "code",
      "execution_count": 1,
      "metadata": {
        "colab": {
          "base_uri": "https://localhost:8080/"
        },
        "id": "c8ZDnAy_mDwa",
        "outputId": "2c1f07a2-669d-4fff-a04e-cba2568573be"
      },
      "outputs": [
        {
          "output_type": "stream",
          "name": "stdout",
          "text": [
            "Drive already mounted at /content/gdrive; to attempt to forcibly remount, call drive.mount(\"/content/gdrive\", force_remount=True).\n"
          ]
        }
      ],
      "source": [
        "import pandas as pd\n",
        "import numpy as np\n",
        "import matplotlib.pyplot as plt\n",
        "from google.colab import drive\n",
        "drive.mount('/content/gdrive')"
      ]
    },
    {
      "cell_type": "code",
      "source": [
        "all_countries = pd.read_csv('/content/gdrive/MyDrive/Data Science Group Project/GlobalLandTemperaturesByCountry.csv')\n",
        "len(all_countries)\n",
        "# all_countries[\"Country\"].unique()"
      ],
      "metadata": {
        "colab": {
          "base_uri": "https://localhost:8080/"
        },
        "id": "rtV0L3UBmK63",
        "outputId": "cb659d6b-42a8-476a-c08c-457f7f2c6ebe"
      },
      "execution_count": 2,
      "outputs": [
        {
          "output_type": "execute_result",
          "data": {
            "text/plain": [
              "577462"
            ]
          },
          "metadata": {},
          "execution_count": 2
        }
      ]
    },
    {
      "cell_type": "code",
      "source": [
        "united_states = all_countries[all_countries[\"Country\"] == \"United States\"]\n",
        "afghanistan = all_countries[all_countries[\"Country\"] == \"Afghanistan\"]\n",
        "bangladesh = all_countries[all_countries[\"Country\"] == \"Bangladesh\"]\n",
        "chad = all_countries[all_countries[\"Country\"] == \"Chad\"]\n",
        "haiti = all_countries[all_countries[\"Country\"] == \"Haiti\"]"
      ],
      "metadata": {
        "id": "1R1Aj83zmSjm"
      },
      "execution_count": 3,
      "outputs": []
    },
    {
      "cell_type": "code",
      "source": [
        "lst = [united_states, afghanistan, bangladesh, chad, haiti]\n",
        "lst_string = [\"United States\", \"Afghanistan\", \"Bangladesh\", \"Chad\", \"Haiti\"]\n",
        "for i in range(0, len(lst)):\n",
        "  print(lst_string[i], \"dataframe has\", len(lst[i]), \"rows\")"
      ],
      "metadata": {
        "colab": {
          "base_uri": "https://localhost:8080/"
        },
        "id": "WhDxDVgtok_Z",
        "outputId": "56855175-52ea-4e9d-ab77-645d28191e6b"
      },
      "execution_count": 4,
      "outputs": [
        {
          "output_type": "stream",
          "name": "stdout",
          "text": [
            "United States dataframe has 2941 rows\n",
            "Afghanistan dataframe has 2106 rows\n",
            "Bangladesh dataframe has 2613 rows\n",
            "Chad dataframe has 1893 rows\n",
            "Haiti dataframe has 2277 rows\n"
          ]
        }
      ]
    },
    {
      "cell_type": "markdown",
      "source": [
        "# LSTM Time Series Models For Each Country"
      ],
      "metadata": {
        "id": "cvOxS2UO79oR"
      }
    },
    {
      "cell_type": "code",
      "source": [
        "import tensorflow as tf\n",
        "from tensorflow import keras\n",
        "from sklearn.model_selection import train_test_split\n",
        "from tensorflow.keras.models import Sequential\n",
        "from tensorflow.keras.layers import *\n",
        "from tensorflow.keras.callbacks import ModelCheckpoint\n",
        "from tensorflow.keras.losses import MeanSquaredError\n",
        "from tensorflow.keras.metrics import RootMeanSquaredError\n",
        "from tensorflow.keras.optimizers import Adam\n",
        "from keras.callbacks import History\n",
        "from tensorflow.keras.models import load_model"
      ],
      "metadata": {
        "id": "rmKBw86MpF4F"
      },
      "execution_count": 5,
      "outputs": []
    },
    {
      "cell_type": "code",
      "source": [
        "# This function is used to make our LSTM Models for each country\n",
        "def df_to_X_y(df, window_size=5):\n",
        "  df_as_np = df.to_numpy()\n",
        "  X = []\n",
        "  y = []\n",
        "  for i in range(len(df_as_np)-window_size):\n",
        "    row = [[a] for a in df_as_np[i:i+5]]\n",
        "    X.append(row)\n",
        "    label = df_as_np[i+5]\n",
        "    y.append(label)\n",
        "  return np.array(X), np.array(y)"
      ],
      "metadata": {
        "id": "97M-Ky2LsUiE"
      },
      "execution_count": 6,
      "outputs": []
    },
    {
      "cell_type": "code",
      "source": [
        "# This function will be used to clean the dataframes, ie drop na values and get only the date and temperture columns\n",
        "def clean_df(df):\n",
        "  temp = df.copy()\n",
        "  temp = temp[[\"dt\", \"AverageTemperature\"]]\n",
        "  temp = temp.dropna()\n",
        "  temp[\"Date\"] = pd.to_datetime(temp.dt, format='%Y-%m-%d')\n",
        "  temp = temp[[\"Date\", \"AverageTemperature\"]]\n",
        "\n",
        "  just_temp_df = temp[\"AverageTemperature\"]\n",
        "\n",
        "  return temp, just_temp_df"
      ],
      "metadata": {
        "id": "TJxw3rL-u7Ti"
      },
      "execution_count": 7,
      "outputs": []
    },
    {
      "cell_type": "code",
      "source": [
        "# This function will be used to get the lengths for train, val and test data\n",
        "import math\n",
        "def get_lengths(df):\n",
        "  # print(len(df))\n",
        "  train = int(len(df) * .90)\n",
        "  val = int(len(df) * .04)\n",
        "  test = int(len(df) * .06)\n",
        "\n",
        "  # print(train + val + test)\n",
        "\n",
        "  return train, val, test"
      ],
      "metadata": {
        "id": "RfzoDt1W0goq"
      },
      "execution_count": 8,
      "outputs": []
    },
    {
      "cell_type": "markdown",
      "source": [
        "# United States"
      ],
      "metadata": {
        "id": "oLI0V-dysKTu"
      }
    },
    {
      "cell_type": "code",
      "source": [
        "united_states_final, united_states_temp_only = clean_df(united_states)\n",
        "# united_states_final.head()\n",
        "WINDOW_SIZE = 5\n",
        "X, y = df_to_X_y(united_states_temp_only, WINDOW_SIZE)\n",
        "X.shape, y.shape"
      ],
      "metadata": {
        "colab": {
          "base_uri": "https://localhost:8080/"
        },
        "id": "3Vocx7sesHZe",
        "outputId": "8bcfb72c-0951-4c72-e5a9-8525dfb20a22"
      },
      "execution_count": 9,
      "outputs": [
        {
          "output_type": "execute_result",
          "data": {
            "text/plain": [
              "((2477, 5, 1), (2477,))"
            ]
          },
          "metadata": {},
          "execution_count": 9
        }
      ]
    },
    {
      "cell_type": "code",
      "source": [
        "train_len, val_len, test_len = get_lengths(united_states_temp_only)\n",
        "# print(train_len, val_len, test_len)\n",
        "X_train, y_train = X[:train_len], y[:train_len]\n",
        "X_val, y_val = X[train_len:(val_len+train_len)], y[train_len:(val_len+train_len)]\n",
        "X_test, y_test = X[(val_len+train_len):], y[(val_len+train_len):]\n",
        "X_train.shape, y_train.shape, X_val.shape, y_val.shape, X_test.shape, y_test.shape"
      ],
      "metadata": {
        "colab": {
          "base_uri": "https://localhost:8080/"
        },
        "id": "nSldThO-yf97",
        "outputId": "fee3c4b3-ba3f-4ac1-c649-069618cc4443"
      },
      "execution_count": 10,
      "outputs": [
        {
          "output_type": "execute_result",
          "data": {
            "text/plain": [
              "((2233, 5, 1), (2233,), (99, 5, 1), (99,), (145, 5, 1), (145,))"
            ]
          },
          "metadata": {},
          "execution_count": 10
        }
      ]
    },
    {
      "cell_type": "code",
      "source": [
        "model1 = Sequential()\n",
        "model1.add(InputLayer((5,1)))\n",
        "model1.add(LSTM(64))\n",
        "model1.add(Dense(8, 'relu'))\n",
        "model1.add(Dense(1, 'linear'))\n",
        "\n",
        "model1.summary()"
      ],
      "metadata": {
        "colab": {
          "base_uri": "https://localhost:8080/"
        },
        "id": "GYZ4LDXh3_jz",
        "outputId": "76997580-8174-44c1-c1f9-e1b455dc784e"
      },
      "execution_count": 11,
      "outputs": [
        {
          "output_type": "stream",
          "name": "stdout",
          "text": [
            "Model: \"sequential\"\n",
            "_________________________________________________________________\n",
            " Layer (type)                Output Shape              Param #   \n",
            "=================================================================\n",
            " lstm (LSTM)                 (None, 64)                16896     \n",
            "                                                                 \n",
            " dense (Dense)               (None, 8)                 520       \n",
            "                                                                 \n",
            " dense_1 (Dense)             (None, 1)                 9         \n",
            "                                                                 \n",
            "=================================================================\n",
            "Total params: 17,425\n",
            "Trainable params: 17,425\n",
            "Non-trainable params: 0\n",
            "_________________________________________________________________\n"
          ]
        }
      ]
    },
    {
      "cell_type": "code",
      "source": [
        "cp = ModelCheckpoint('us_model/', save_best_only=True)\n",
        "history = History()\n",
        "model1.compile(loss=MeanSquaredError(), optimizer=Adam(learning_rate=0.001), metrics=[RootMeanSquaredError()])"
      ],
      "metadata": {
        "id": "8_61cCZb4KUS"
      },
      "execution_count": 12,
      "outputs": []
    },
    {
      "cell_type": "code",
      "source": [
        "model1.fit(X_train, y_train, validation_data=(X_val, y_val), epochs=10, callbacks=[cp, history])"
      ],
      "metadata": {
        "colab": {
          "base_uri": "https://localhost:8080/"
        },
        "id": "gUvAcIb_4OO7",
        "outputId": "894f5ed9-35af-42bf-cd67-b41c9b09358c"
      },
      "execution_count": 13,
      "outputs": [
        {
          "output_type": "stream",
          "name": "stdout",
          "text": [
            "Epoch 1/10\n",
            "66/70 [===========================>..] - ETA: 0s - loss: 94.0641 - root_mean_squared_error: 9.6987  "
          ]
        },
        {
          "output_type": "stream",
          "name": "stderr",
          "text": [
            "WARNING:absl:Found untraced functions such as lstm_cell_layer_call_fn, lstm_cell_layer_call_and_return_conditional_losses while saving (showing 2 of 2). These functions will not be directly callable after loading.\n"
          ]
        },
        {
          "output_type": "stream",
          "name": "stdout",
          "text": [
            "\b\b\b\b\b\b\b\b\b\b\b\b\b\b\b\b\b\b\b\b\b\b\b\b\b\b\b\b\b\b\b\b\b\b\b\b\b\b\b\b\b\b\b\b\b\b\b\b\b\b\b\b\b\b\b\b\b\b\b\b\b\b\b\b\b\b\b\b\b\b\b\b\b\b\b\b\b\b\b\b\b\b\b\b\b\b\b\b\b\b\b\b\b\b\b\b\b\b\r70/70 [==============================] - 26s 242ms/step - loss: 90.8543 - root_mean_squared_error: 9.5318 - val_loss: 29.0122 - val_root_mean_squared_error: 5.3863\n",
            "Epoch 2/10\n",
            "64/70 [==========================>...] - ETA: 0s - loss: 8.2890 - root_mean_squared_error: 2.8791"
          ]
        },
        {
          "output_type": "stream",
          "name": "stderr",
          "text": [
            "WARNING:absl:Found untraced functions such as lstm_cell_layer_call_fn, lstm_cell_layer_call_and_return_conditional_losses while saving (showing 2 of 2). These functions will not be directly callable after loading.\n"
          ]
        },
        {
          "output_type": "stream",
          "name": "stdout",
          "text": [
            "\b\b\b\b\b\b\b\b\b\b\b\b\b\b\b\b\b\b\b\b\b\b\b\b\b\b\b\b\b\b\b\b\b\b\b\b\b\b\b\b\b\b\b\b\b\b\b\b\b\b\b\b\b\b\b\b\b\b\b\b\b\b\b\b\b\b\b\b\b\b\b\b\b\b\b\b\b\b\b\b\b\b\b\b\b\b\b\b\b\b\b\b\b\b\b\b\b\r70/70 [==============================] - 5s 77ms/step - loss: 7.9103 - root_mean_squared_error: 2.8125 - val_loss: 2.2384 - val_root_mean_squared_error: 1.4961\n",
            "Epoch 3/10\n",
            "63/70 [==========================>...] - ETA: 0s - loss: 2.8903 - root_mean_squared_error: 1.7001"
          ]
        },
        {
          "output_type": "stream",
          "name": "stderr",
          "text": [
            "WARNING:absl:Found untraced functions such as lstm_cell_layer_call_fn, lstm_cell_layer_call_and_return_conditional_losses while saving (showing 2 of 2). These functions will not be directly callable after loading.\n"
          ]
        },
        {
          "output_type": "stream",
          "name": "stdout",
          "text": [
            "\b\b\b\b\b\b\b\b\b\b\b\b\b\b\b\b\b\b\b\b\b\b\b\b\b\b\b\b\b\b\b\b\b\b\b\b\b\b\b\b\b\b\b\b\b\b\b\b\b\b\b\b\b\b\b\b\b\b\b\b\b\b\b\b\b\b\b\b\b\b\b\b\b\b\b\b\b\b\b\b\b\b\b\b\b\b\b\b\b\b\b\b\b\b\b\b\b\r70/70 [==============================] - 6s 82ms/step - loss: 2.7702 - root_mean_squared_error: 1.6644 - val_loss: 1.4661 - val_root_mean_squared_error: 1.2108\n",
            "Epoch 4/10\n",
            "70/70 [==============================] - 0s 6ms/step - loss: 2.1761 - root_mean_squared_error: 1.4752 - val_loss: 1.6010 - val_root_mean_squared_error: 1.2653\n",
            "Epoch 5/10\n",
            "70/70 [==============================] - 0s 7ms/step - loss: 2.0171 - root_mean_squared_error: 1.4202 - val_loss: 1.4956 - val_root_mean_squared_error: 1.2229\n",
            "Epoch 6/10\n",
            "70/70 [==============================] - 0s 6ms/step - loss: 1.9740 - root_mean_squared_error: 1.4050 - val_loss: 1.7817 - val_root_mean_squared_error: 1.3348\n",
            "Epoch 7/10\n",
            "70/70 [==============================] - 0s 6ms/step - loss: 1.9369 - root_mean_squared_error: 1.3917 - val_loss: 1.5664 - val_root_mean_squared_error: 1.2516\n",
            "Epoch 8/10\n",
            "65/70 [==========================>...] - ETA: 0s - loss: 1.8825 - root_mean_squared_error: 1.3720"
          ]
        },
        {
          "output_type": "stream",
          "name": "stderr",
          "text": [
            "WARNING:absl:Found untraced functions such as lstm_cell_layer_call_fn, lstm_cell_layer_call_and_return_conditional_losses while saving (showing 2 of 2). These functions will not be directly callable after loading.\n"
          ]
        },
        {
          "output_type": "stream",
          "name": "stdout",
          "text": [
            "\b\b\b\b\b\b\b\b\b\b\b\b\b\b\b\b\b\b\b\b\b\b\b\b\b\b\b\b\b\b\b\b\b\b\b\b\b\b\b\b\b\b\b\b\b\b\b\b\b\b\b\b\b\b\b\b\b\b\b\b\b\b\b\b\b\b\b\b\b\b\b\b\b\b\b\b\b\b\b\b\b\b\b\b\b\b\b\b\b\b\b\b\b\b\b\b\b\r70/70 [==============================] - 5s 74ms/step - loss: 1.9123 - root_mean_squared_error: 1.3828 - val_loss: 1.3464 - val_root_mean_squared_error: 1.1604\n",
            "Epoch 9/10\n",
            "67/70 [===========================>..] - ETA: 0s - loss: 1.8165 - root_mean_squared_error: 1.3478"
          ]
        },
        {
          "output_type": "stream",
          "name": "stderr",
          "text": [
            "WARNING:absl:Found untraced functions such as lstm_cell_layer_call_fn, lstm_cell_layer_call_and_return_conditional_losses while saving (showing 2 of 2). These functions will not be directly callable after loading.\n"
          ]
        },
        {
          "output_type": "stream",
          "name": "stdout",
          "text": [
            "\b\b\b\b\b\b\b\b\b\b\b\b\b\b\b\b\b\b\b\b\b\b\b\b\b\b\b\b\b\b\b\b\b\b\b\b\b\b\b\b\b\b\b\b\b\b\b\b\b\b\b\b\b\b\b\b\b\b\b\b\b\b\b\b\b\b\b\b\b\b\b\b\b\b\b\b\b\b\b\b\b\b\b\b\b\b\b\b\b\b\b\b\b\b\b\b\b\r70/70 [==============================] - 6s 81ms/step - loss: 1.8598 - root_mean_squared_error: 1.3637 - val_loss: 1.3444 - val_root_mean_squared_error: 1.1595\n",
            "Epoch 10/10\n",
            "70/70 [==============================] - 0s 6ms/step - loss: 1.8582 - root_mean_squared_error: 1.3632 - val_loss: 1.3855 - val_root_mean_squared_error: 1.1771\n"
          ]
        },
        {
          "output_type": "execute_result",
          "data": {
            "text/plain": [
              "<keras.callbacks.History at 0x7f8e44f1a0d0>"
            ]
          },
          "metadata": {},
          "execution_count": 13
        }
      ]
    },
    {
      "cell_type": "code",
      "source": [
        "plt.plot(model1.history.history['val_loss'])\n",
        "plt.title('Val Loss')"
      ],
      "metadata": {
        "colab": {
          "base_uri": "https://localhost:8080/",
          "height": 298
        },
        "id": "UeKEH8Wz4Ots",
        "outputId": "f1f40a8e-f65e-448c-b185-f51e85c2a6b3"
      },
      "execution_count": 14,
      "outputs": [
        {
          "output_type": "execute_result",
          "data": {
            "text/plain": [
              "Text(0.5, 1.0, 'Val Loss')"
            ]
          },
          "metadata": {},
          "execution_count": 14
        },
        {
          "output_type": "display_data",
          "data": {
            "text/plain": [
              "<Figure size 432x288 with 1 Axes>"
            ],
            "image/png": "[encoded data removed]"
          },
          "metadata": {
            "needs_background": "light"
          }
        }
      ]
    },
    {
      "cell_type": "code",
      "source": [
        "model1 = load_model('us_model/')\n",
        "train_predictions = model1.predict(X_train).flatten()\n",
        "train_results = pd.DataFrame(data={'Train Predictions': train_predictions, 'Actuals':y_train})\n",
        "# train_results"
      ],
      "metadata": {
        "colab": {
          "base_uri": "https://localhost:8080/"
        },
        "id": "_sp201rt8Iuv",
        "outputId": "3919e5ec-3444-4bbe-eec6-6dc1800a785d"
      },
      "execution_count": 15,
      "outputs": [
        {
          "output_type": "stream",
          "name": "stdout",
          "text": [
            "70/70 [==============================] - 1s 3ms/step\n"
          ]
        }
      ]
    },
    {
      "cell_type": "code",
      "source": [
        "test_predictions = model1.predict(X_test).flatten()\n",
        "test_results = pd.DataFrame(data={'Test Predictions': test_predictions, 'Actuals':y_test})\n",
        "test_results[\"Difference\"] = abs(test_results[\"Actuals\"] - test_results[\"Test Predictions\"])\n",
        "# test_results\n",
        "united_states_average_accuracy = test_results[\"Difference\"].mean()\n",
        "print(\"On Average, the mean difference between our predictions and actuals for our\", len(test_results), \"test data points is:\", united_states_average_accuracy)"
      ],
      "metadata": {
        "colab": {
          "base_uri": "https://localhost:8080/"
        },
        "id": "WFIxKto18JUa",
        "outputId": "85a2edfb-fe06-4ae7-c321-a6498917dae9"
      },
      "execution_count": 16,
      "outputs": [
        {
          "output_type": "stream",
          "name": "stdout",
          "text": [
            "5/5 [==============================] - 0s 4ms/step\n",
            "On Average, the mean difference between our predictions and actuals for our 145 test data points is: 0.9251072417292103\n"
          ]
        }
      ]
    },
    {
      "cell_type": "code",
      "source": [
        "plt.plot(test_results['Test Predictions'])\n",
        "plt.plot(test_results['Actuals'])"
      ],
      "metadata": {
        "colab": {
          "base_uri": "https://localhost:8080/",
          "height": 282
        },
        "id": "ygckTPcs8JE_",
        "outputId": "31241c1f-73db-46d0-f539-76b255d94a76"
      },
      "execution_count": 17,
      "outputs": [
        {
          "output_type": "execute_result",
          "data": {
            "text/plain": [
              "[<matplotlib.lines.Line2D at 0x7f8e3d8631d0>]"
            ]
          },
          "metadata": {},
          "execution_count": 17
        },
        {
          "output_type": "display_data",
          "data": {
            "text/plain": [
              "<Figure size 432x288 with 1 Axes>"
            ],
            "image/png": "[encoded data removed]"
          },
          "metadata": {
            "needs_background": "light"
          }
        }
      ]
    },
    {
      "cell_type": "markdown",
      "source": [
        "# Afghanistan"
      ],
      "metadata": {
        "id": "qvtCZaRHAt5d"
      }
    },
    {
      "cell_type": "code",
      "source": [
        "afghanistan_final, afghanistan_final_temp_only = clean_df(afghanistan)\n",
        "# united_states_final.head()\n",
        "WINDOW_SIZE = 5\n",
        "afghanistan_X, afghanistan_y = df_to_X_y(afghanistan_final_temp_only, WINDOW_SIZE)\n",
        "afghanistan_X.shape, afghanistan_y.shape"
      ],
      "metadata": {
        "colab": {
          "base_uri": "https://localhost:8080/"
        },
        "id": "PW9ogi9kv8pD",
        "outputId": "e1c3ba79-90b4-4595-fc49-ca490a85c4f6"
      },
      "execution_count": 18,
      "outputs": [
        {
          "output_type": "execute_result",
          "data": {
            "text/plain": [
              "((2080, 5, 1), (2080,))"
            ]
          },
          "metadata": {},
          "execution_count": 18
        }
      ]
    },
    {
      "cell_type": "code",
      "source": [
        "afghanistan_train_len, afghanistan_val_len, afghanistan_test_len = get_lengths(afghanistan_final_temp_only)\n",
        "print(afghanistan_train_len, afghanistan_val_len, afghanistan_test_len)\n",
        "afghanistan_X_train, afghanistan_y_train = afghanistan_X[:afghanistan_train_len], afghanistan_y[:afghanistan_train_len]\n",
        "afghanistan_X_val, afghanistan_y_val = afghanistan_X[afghanistan_train_len:(afghanistan_val_len+afghanistan_train_len)], afghanistan_y[afghanistan_train_len:(afghanistan_val_len+afghanistan_train_len)]\n",
        "afghanistan_X_test, afghanistan_y_test = afghanistan_X[(afghanistan_val_len+afghanistan_train_len):], afghanistan_y[(afghanistan_val_len+afghanistan_train_len):]\n",
        "afghanistan_X_train.shape, afghanistan_y_train.shape, afghanistan_X_val.shape, afghanistan_y_val.shape, afghanistan_X_test.shape, afghanistan_y_test.shape"
      ],
      "metadata": {
        "colab": {
          "base_uri": "https://localhost:8080/"
        },
        "id": "eVvOZjIkBabd",
        "outputId": "bb8d8f76-f8fa-445a-fffa-0febe14cb505"
      },
      "execution_count": 19,
      "outputs": [
        {
          "output_type": "stream",
          "name": "stdout",
          "text": [
            "1876 83 125\n"
          ]
        },
        {
          "output_type": "execute_result",
          "data": {
            "text/plain": [
              "((1876, 5, 1), (1876,), (83, 5, 1), (83,), (121, 5, 1), (121,))"
            ]
          },
          "metadata": {},
          "execution_count": 19
        }
      ]
    },
    {
      "cell_type": "code",
      "source": [
        "afghan_model = Sequential()\n",
        "afghan_model.add(InputLayer((5,1)))\n",
        "afghan_model.add(LSTM(64))\n",
        "afghan_model.add(Dense(8, 'relu'))\n",
        "afghan_model.add(Dense(1, 'linear'))\n",
        "\n",
        "afghan_model.summary()"
      ],
      "metadata": {
        "colab": {
          "base_uri": "https://localhost:8080/"
        },
        "id": "7AvgenFxBaYA",
        "outputId": "46e6578b-b533-4d5e-9737-74eae5535987"
      },
      "execution_count": 20,
      "outputs": [
        {
          "output_type": "stream",
          "name": "stdout",
          "text": [
            "Model: \"sequential_1\"\n",
            "_________________________________________________________________\n",
            " Layer (type)                Output Shape              Param #   \n",
            "=================================================================\n",
            " lstm_1 (LSTM)               (None, 64)                16896     \n",
            "                                                                 \n",
            " dense_2 (Dense)             (None, 8)                 520       \n",
            "                                                                 \n",
            " dense_3 (Dense)             (None, 1)                 9         \n",
            "                                                                 \n",
            "=================================================================\n",
            "Total params: 17,425\n",
            "Trainable params: 17,425\n",
            "Non-trainable params: 0\n",
            "_________________________________________________________________\n"
          ]
        }
      ]
    },
    {
      "cell_type": "code",
      "source": [
        "afghan_cp = ModelCheckpoint('afghan_model/', save_best_only=True)\n",
        "afghan_history = History()\n",
        "afghan_model.compile(loss=MeanSquaredError(), optimizer=Adam(learning_rate=0.001), metrics=[RootMeanSquaredError()])"
      ],
      "metadata": {
        "id": "8Srj9JLsBaVH"
      },
      "execution_count": 30,
      "outputs": []
    },
    {
      "cell_type": "code",
      "source": [
        "afghan_model.fit(afghanistan_X_train, afghanistan_y_train, validation_data=(afghanistan_X_val, afghanistan_y_val), epochs=10, callbacks=[afghan_cp, afghan_history])"
      ],
      "metadata": {
        "colab": {
          "base_uri": "https://localhost:8080/"
        },
        "id": "m3PWhs1oBaSH",
        "outputId": "c6a6123b-5bb6-4060-a293-43bce4936e36"
      },
      "execution_count": 31,
      "outputs": [
        {
          "output_type": "stream",
          "name": "stdout",
          "text": [
            "Epoch 1/10\n",
            "58/59 [============================>.] - ETA: 0s - loss: 260.3931 - root_mean_squared_error: 16.1367"
          ]
        },
        {
          "output_type": "stream",
          "name": "stderr",
          "text": [
            "WARNING:absl:Found untraced functions such as lstm_cell_3_layer_call_fn, lstm_cell_3_layer_call_and_return_conditional_losses while saving (showing 2 of 2). These functions will not be directly callable after loading.\n"
          ]
        },
        {
          "output_type": "stream",
          "name": "stdout",
          "text": [
            "\b\b\b\b\b\b\b\b\b\b\b\b\b\b\b\b\b\b\b\b\b\b\b\b\b\b\b\b\b\b\b\b\b\b\b\b\b\b\b\b\b\b\b\b\b\b\b\b\b\b\b\b\b\b\b\b\b\b\b\b\b\b\b\b\b\b\b\b\b\b\b\b\b\b\b\b\b\b\b\b\b\b\b\b\b\b\b\b\b\b\b\b\b\b\b\b\b\b\b\b\r59/59 [==============================] - 11s 99ms/step - loss: 261.2411 - root_mean_squared_error: 16.1630 - val_loss: 292.5808 - val_root_mean_squared_error: 17.1050\n",
            "Epoch 2/10\n",
            "57/59 [===========================>..] - ETA: 0s - loss: 259.5343 - root_mean_squared_error: 16.1101"
          ]
        },
        {
          "output_type": "stream",
          "name": "stderr",
          "text": [
            "WARNING:absl:Found untraced functions such as lstm_cell_3_layer_call_fn, lstm_cell_3_layer_call_and_return_conditional_losses while saving (showing 2 of 2). These functions will not be directly callable after loading.\n"
          ]
        },
        {
          "output_type": "stream",
          "name": "stdout",
          "text": [
            "\b\b\b\b\b\b\b\b\b\b\b\b\b\b\b\b\b\b\b\b\b\b\b\b\b\b\b\b\b\b\b\b\b\b\b\b\b\b\b\b\b\b\b\b\b\b\b\b\b\b\b\b\b\b\b\b\b\b\b\b\b\b\b\b\b\b\b\b\b\b\b\b\b\b\b\b\b\b\b\b\b\b\b\b\b\b\b\b\b\b\b\b\b\b\b\b\b\b\b\b\r59/59 [==============================] - 6s 99ms/step - loss: 259.6904 - root_mean_squared_error: 16.1149 - val_loss: 290.8855 - val_root_mean_squared_error: 17.0554\n",
            "Epoch 3/10\n",
            "59/59 [==============================] - ETA: 0s - loss: 258.1528 - root_mean_squared_error: 16.0671"
          ]
        },
        {
          "output_type": "stream",
          "name": "stderr",
          "text": [
            "WARNING:absl:Found untraced functions such as lstm_cell_3_layer_call_fn, lstm_cell_3_layer_call_and_return_conditional_losses while saving (showing 2 of 2). These functions will not be directly callable after loading.\n"
          ]
        },
        {
          "output_type": "stream",
          "name": "stdout",
          "text": [
            "\b\b\b\b\b\b\b\b\b\b\b\b\b\b\b\b\b\b\b\b\b\b\b\b\b\b\b\b\b\b\b\b\b\b\b\b\b\b\b\b\b\b\b\b\b\b\b\b\b\b\b\b\b\b\b\b\b\b\b\b\b\b\b\b\b\b\b\b\b\b\b\b\b\b\b\b\b\b\b\b\b\b\b\b\b\b\b\b\b\b\b\b\b\b\b\b\b\b\b\b\r59/59 [==============================] - 5s 90ms/step - loss: 258.1528 - root_mean_squared_error: 16.0671 - val_loss: 289.2044 - val_root_mean_squared_error: 17.0060\n",
            "Epoch 4/10\n",
            "52/59 [=========================>....] - ETA: 0s - loss: 257.6805 - root_mean_squared_error: 16.0524"
          ]
        },
        {
          "output_type": "stream",
          "name": "stderr",
          "text": [
            "WARNING:absl:Found untraced functions such as lstm_cell_3_layer_call_fn, lstm_cell_3_layer_call_and_return_conditional_losses while saving (showing 2 of 2). These functions will not be directly callable after loading.\n"
          ]
        },
        {
          "output_type": "stream",
          "name": "stdout",
          "text": [
            "\b\b\b\b\b\b\b\b\b\b\b\b\b\b\b\b\b\b\b\b\b\b\b\b\b\b\b\b\b\b\b\b\b\b\b\b\b\b\b\b\b\b\b\b\b\b\b\b\b\b\b\b\b\b\b\b\b\b\b\b\b\b\b\b\b\b\b\b\b\b\b\b\b\b\b\b\b\b\b\b\b\b\b\b\b\b\b\b\b\b\b\b\b\b\b\b\b\b\b\b\r59/59 [==============================] - 5s 89ms/step - loss: 256.6252 - root_mean_squared_error: 16.0195 - val_loss: 287.5315 - val_root_mean_squared_error: 16.9568\n",
            "Epoch 5/10\n",
            "55/59 [==========================>...] - ETA: 0s - loss: 252.7012 - root_mean_squared_error: 15.8966"
          ]
        },
        {
          "output_type": "stream",
          "name": "stderr",
          "text": [
            "WARNING:absl:Found untraced functions such as lstm_cell_3_layer_call_fn, lstm_cell_3_layer_call_and_return_conditional_losses while saving (showing 2 of 2). These functions will not be directly callable after loading.\n"
          ]
        },
        {
          "output_type": "stream",
          "name": "stdout",
          "text": [
            "\b\b\b\b\b\b\b\b\b\b\b\b\b\b\b\b\b\b\b\b\b\b\b\b\b\b\b\b\b\b\b\b\b\b\b\b\b\b\b\b\b\b\b\b\b\b\b\b\b\b\b\b\b\b\b\b\b\b\b\b\b\b\b\b\b\b\b\b\b\b\b\b\b\b\b\b\b\b\b\b\b\b\b\b\b\b\b\b\b\b\b\b\b\b\b\b\b\b\b\b\r59/59 [==============================] - 6s 106ms/step - loss: 255.1005 - root_mean_squared_error: 15.9719 - val_loss: 285.8804 - val_root_mean_squared_error: 16.9080\n",
            "Epoch 6/10\n",
            "57/59 [===========================>..] - ETA: 0s - loss: 254.8506 - root_mean_squared_error: 15.9640"
          ]
        },
        {
          "output_type": "stream",
          "name": "stderr",
          "text": [
            "WARNING:absl:Found untraced functions such as lstm_cell_3_layer_call_fn, lstm_cell_3_layer_call_and_return_conditional_losses while saving (showing 2 of 2). These functions will not be directly callable after loading.\n"
          ]
        },
        {
          "output_type": "stream",
          "name": "stdout",
          "text": [
            "\b\b\b\b\b\b\b\b\b\b\b\b\b\b\b\b\b\b\b\b\b\b\b\b\b\b\b\b\b\b\b\b\b\b\b\b\b\b\b\b\b\b\b\b\b\b\b\b\b\b\b\b\b\b\b\b\b\b\b\b\b\b\b\b\b\b\b\b\b\b\b\b\b\b\b\b\b\b\b\b\b\b\b\b\b\b\b\b\b\b\b\b\b\b\b\b\b\b\b\b\r59/59 [==============================] - 5s 89ms/step - loss: 253.5939 - root_mean_squared_error: 15.9246 - val_loss: 284.2056 - val_root_mean_squared_error: 16.8584\n",
            "Epoch 7/10\n",
            "51/59 [========================>.....] - ETA: 0s - loss: 251.2610 - root_mean_squared_error: 15.8512"
          ]
        },
        {
          "output_type": "stream",
          "name": "stderr",
          "text": [
            "WARNING:absl:Found untraced functions such as lstm_cell_3_layer_call_fn, lstm_cell_3_layer_call_and_return_conditional_losses while saving (showing 2 of 2). These functions will not be directly callable after loading.\n"
          ]
        },
        {
          "output_type": "stream",
          "name": "stdout",
          "text": [
            "\b\b\b\b\b\b\b\b\b\b\b\b\b\b\b\b\b\b\b\b\b\b\b\b\b\b\b\b\b\b\b\b\b\b\b\b\b\b\b\b\b\b\b\b\b\b\b\b\b\b\b\b\b\b\b\b\b\b\b\b\b\b\b\b\b\b\b\b\b\b\b\b\b\b\b\b\b\b\b\b\b\b\b\b\b\b\b\b\b\b\b\b\b\b\b\b\b\b\b\b\r59/59 [==============================] - 6s 100ms/step - loss: 252.0904 - root_mean_squared_error: 15.8774 - val_loss: 282.5765 - val_root_mean_squared_error: 16.8100\n",
            "Epoch 8/10\n",
            "54/59 [==========================>...] - ETA: 0s - loss: 253.8504 - root_mean_squared_error: 15.9327"
          ]
        },
        {
          "output_type": "stream",
          "name": "stderr",
          "text": [
            "WARNING:absl:Found untraced functions such as lstm_cell_3_layer_call_fn, lstm_cell_3_layer_call_and_return_conditional_losses while saving (showing 2 of 2). These functions will not be directly callable after loading.\n"
          ]
        },
        {
          "output_type": "stream",
          "name": "stdout",
          "text": [
            "\b\b\b\b\b\b\b\b\b\b\b\b\b\b\b\b\b\b\b\b\b\b\b\b\b\b\b\b\b\b\b\b\b\b\b\b\b\b\b\b\b\b\b\b\b\b\b\b\b\b\b\b\b\b\b\b\b\b\b\b\b\b\b\b\b\b\b\b\b\b\b\b\b\b\b\b\b\b\b\b\b\b\b\b\b\b\b\b\b\b\b\b\b\b\b\b\b\b\b\b\r59/59 [==============================] - 5s 91ms/step - loss: 250.6051 - root_mean_squared_error: 15.8305 - val_loss: 280.9306 - val_root_mean_squared_error: 16.7610\n",
            "Epoch 9/10\n",
            "53/59 [=========================>....] - ETA: 0s - loss: 251.5248 - root_mean_squared_error: 15.8595"
          ]
        },
        {
          "output_type": "stream",
          "name": "stderr",
          "text": [
            "WARNING:absl:Found untraced functions such as lstm_cell_3_layer_call_fn, lstm_cell_3_layer_call_and_return_conditional_losses while saving (showing 2 of 2). These functions will not be directly callable after loading.\n"
          ]
        },
        {
          "output_type": "stream",
          "name": "stdout",
          "text": [
            "\b\b\b\b\b\b\b\b\b\b\b\b\b\b\b\b\b\b\b\b\b\b\b\b\b\b\b\b\b\b\b\b\b\b\b\b\b\b\b\b\b\b\b\b\b\b\b\b\b\b\b\b\b\b\b\b\b\b\b\b\b\b\b\b\b\b\b\b\b\b\b\b\b\b\b\b\b\b\b\b\b\b\b\b\b\b\b\b\b\b\b\b\b\b\b\b\b\b\b\b\r59/59 [==============================] - 5s 88ms/step - loss: 249.1261 - root_mean_squared_error: 15.7837 - val_loss: 279.3133 - val_root_mean_squared_error: 16.7127\n",
            "Epoch 10/10\n",
            "55/59 [==========================>...] - ETA: 0s - loss: 248.7845 - root_mean_squared_error: 15.7729"
          ]
        },
        {
          "output_type": "stream",
          "name": "stderr",
          "text": [
            "WARNING:absl:Found untraced functions such as lstm_cell_3_layer_call_fn, lstm_cell_3_layer_call_and_return_conditional_losses while saving (showing 2 of 2). These functions will not be directly callable after loading.\n"
          ]
        },
        {
          "output_type": "stream",
          "name": "stdout",
          "text": [
            "\b\b\b\b\b\b\b\b\b\b\b\b\b\b\b\b\b\b\b\b\b\b\b\b\b\b\b\b\b\b\b\b\b\b\b\b\b\b\b\b\b\b\b\b\b\b\b\b\b\b\b\b\b\b\b\b\b\b\b\b\b\b\b\b\b\b\b\b\b\b\b\b\b\b\b\b\b\b\b\b\b\b\b\b\b\b\b\b\b\b\b\b\b\b\b\b\b\b\b\b\r59/59 [==============================] - 6s 102ms/step - loss: 247.6545 - root_mean_squared_error: 15.7370 - val_loss: 277.7005 - val_root_mean_squared_error: 16.6643\n"
          ]
        },
        {
          "output_type": "execute_result",
          "data": {
            "text/plain": [
              "<keras.callbacks.History at 0x7f8e3e902a10>"
            ]
          },
          "metadata": {},
          "execution_count": 31
        }
      ]
    },
    {
      "cell_type": "code",
      "source": [
        "plt.plot(afghan_model.history.history['val_loss'])\n",
        "plt.title('Val Loss')"
      ],
      "metadata": {
        "colab": {
          "base_uri": "https://localhost:8080/",
          "height": 298
        },
        "id": "qYaxQ2rGBaPU",
        "outputId": "49f66a90-2378-4566-ecbd-6adbe7370c9c"
      },
      "execution_count": 32,
      "outputs": [
        {
          "output_type": "execute_result",
          "data": {
            "text/plain": [
              "Text(0.5, 1.0, 'Val Loss')"
            ]
          },
          "metadata": {},
          "execution_count": 32
        },
        {
          "output_type": "display_data",
          "data": {
            "text/plain": [
              "<Figure size 432x288 with 1 Axes>"
            ],
            "image/png": "[encoded data removed]"
          },
          "metadata": {
            "needs_background": "light"
          }
        }
      ]
    },
    {
      "cell_type": "code",
      "source": [
        "afghan_model = load_model('afghan_model/')\n",
        "afghan_train_predictions = afghan_model.predict(afghanistan_X_train).flatten()\n",
        "afghan_train_results = pd.DataFrame(data={'Train Predictions': afghan_train_predictions, 'Actuals':afghanistan_y_train})\n",
        "# afghan_train_results"
      ],
      "metadata": {
        "colab": {
          "base_uri": "https://localhost:8080/"
        },
        "id": "6bqMeDqzBaK_",
        "outputId": "40d36b09-e63c-4954-deea-01f4b33fd78e"
      },
      "execution_count": 33,
      "outputs": [
        {
          "output_type": "stream",
          "name": "stdout",
          "text": [
            "59/59 [==============================] - 1s 5ms/step\n"
          ]
        }
      ]
    },
    {
      "cell_type": "code",
      "source": [
        "afghan_test_predictions = afghan_model.predict(afghanistan_X_test).flatten()\n",
        "afghan_test_results = pd.DataFrame(data={'Test Predictions': afghan_test_predictions, 'Actuals':afghanistan_y_test})\n",
        "afghan_test_results[\"Difference\"] = abs(afghan_test_results[\"Actuals\"] - afghan_test_results[\"Test Predictions\"])\n",
        "afghan_average_accuracy = afghan_test_results[\"Difference\"].mean()\n",
        "print(\"On Average, the mean difference between our predictions and actuals for our\", len(afghan_test_results), \"test data points is:\", afghan_average_accuracy)"
      ],
      "metadata": {
        "colab": {
          "base_uri": "https://localhost:8080/"
        },
        "id": "1JQ_5xajBaEQ",
        "outputId": "f996a937-ad5f-4033-e4f7-8c5c0b8cd08e"
      },
      "execution_count": 34,
      "outputs": [
        {
          "output_type": "stream",
          "name": "stdout",
          "text": [
            "4/4 [==============================] - 0s 6ms/step\n",
            "On Average, the mean difference between our predictions and actuals for our 121 test data points is: 14.367012060149642\n"
          ]
        }
      ]
    },
    {
      "cell_type": "code",
      "source": [
        "plt.plot(afghan_test_results['Test Predictions'])\n",
        "plt.plot(afghan_test_results['Actuals'])"
      ],
      "metadata": {
        "colab": {
          "base_uri": "https://localhost:8080/",
          "height": 286
        },
        "id": "b2e8-8VrDSfN",
        "outputId": "d6581617-ae0c-4c04-8660-966de182171c"
      },
      "execution_count": 35,
      "outputs": [
        {
          "output_type": "execute_result",
          "data": {
            "text/plain": [
              "[<matplotlib.lines.Line2D at 0x7f8e3a631510>]"
            ]
          },
          "metadata": {},
          "execution_count": 35
        },
        {
          "output_type": "display_data",
          "data": {
            "text/plain": [
              "<Figure size 432x288 with 1 Axes>"
            ],
            "image/png": "[encoded data removed]"
          },
          "metadata": {
            "needs_background": "light"
          }
        }
      ]
    },
    {
      "cell_type": "markdown",
      "source": [
        "# Bangladesh"
      ],
      "metadata": {
        "id": "Tk68QWAiwnU6"
      }
    },
    {
      "cell_type": "code",
      "source": [
        "bangladesh_final, bangladesh_final_temp_only = clean_df(bangladesh)\n",
        "# bangladesh_final.head()\n",
        "WINDOW_SIZE = 5\n",
        "bangladesh_X, bangladesh_y = df_to_X_y(bangladesh_final_temp_only, WINDOW_SIZE)\n",
        "bangladesh_X.shape, bangladesh_y.shape"
      ],
      "metadata": {
        "colab": {
          "base_uri": "https://localhost:8080/"
        },
        "id": "QTDQeqnrwjS2",
        "outputId": "785d9aff-aaa6-4a2e-e4ff-e4ffbd8bb1ba"
      },
      "execution_count": 36,
      "outputs": [
        {
          "output_type": "execute_result",
          "data": {
            "text/plain": [
              "((2524, 5, 1), (2524,))"
            ]
          },
          "metadata": {},
          "execution_count": 36
        }
      ]
    },
    {
      "cell_type": "code",
      "source": [
        "bangladesh_train_len, bangladesh_val_len, bangladesh_test_len = get_lengths(bangladesh_final_temp_only)\n",
        "print(bangladesh_train_len, bangladesh_val_len, bangladesh_test_len)\n",
        "bangladesh_X_train, bangladesh_y_train = bangladesh_X[:bangladesh_train_len], bangladesh_y[:bangladesh_train_len]\n",
        "bangladesh_X_val, bangladesh_y_val = bangladesh_X[bangladesh_train_len:(bangladesh_val_len+bangladesh_train_len)], bangladesh_y[bangladesh_train_len:(bangladesh_val_len+bangladesh_train_len)]\n",
        "bangladesh_X_test, bangladesh_y_test = bangladesh_X[(bangladesh_val_len+bangladesh_train_len):], bangladesh_y[(bangladesh_val_len+bangladesh_train_len):]\n",
        "bangladesh_X_train.shape, bangladesh_y_train.shape, bangladesh_X_val.shape, bangladesh_y_val.shape, bangladesh_X_test.shape, bangladesh_y_test.shape"
      ],
      "metadata": {
        "colab": {
          "base_uri": "https://localhost:8080/"
        },
        "id": "dqSE-6E_W78b",
        "outputId": "277e6c19-68bb-46ae-d45c-f8a992ee6e70"
      },
      "execution_count": 37,
      "outputs": [
        {
          "output_type": "stream",
          "name": "stdout",
          "text": [
            "2276 101 151\n"
          ]
        },
        {
          "output_type": "execute_result",
          "data": {
            "text/plain": [
              "((2276, 5, 1), (2276,), (101, 5, 1), (101,), (147, 5, 1), (147,))"
            ]
          },
          "metadata": {},
          "execution_count": 37
        }
      ]
    },
    {
      "cell_type": "code",
      "source": [
        "bangladesh_model = Sequential()\n",
        "bangladesh_model.add(InputLayer((5,1)))\n",
        "bangladesh_model.add(LSTM(64))\n",
        "bangladesh_model.add(Dense(8, 'relu'))\n",
        "bangladesh_model.add(Dense(1, 'linear'))\n",
        "\n",
        "bangladesh_model.summary()"
      ],
      "metadata": {
        "colab": {
          "base_uri": "https://localhost:8080/"
        },
        "id": "Z-rhFmkTW753",
        "outputId": "0f98f2fb-fb03-464d-a8a6-62484abe152c"
      },
      "execution_count": 38,
      "outputs": [
        {
          "output_type": "stream",
          "name": "stdout",
          "text": [
            "Model: \"sequential_2\"\n",
            "_________________________________________________________________\n",
            " Layer (type)                Output Shape              Param #   \n",
            "=================================================================\n",
            " lstm_2 (LSTM)               (None, 64)                16896     \n",
            "                                                                 \n",
            " dense_4 (Dense)             (None, 8)                 520       \n",
            "                                                                 \n",
            " dense_5 (Dense)             (None, 1)                 9         \n",
            "                                                                 \n",
            "=================================================================\n",
            "Total params: 17,425\n",
            "Trainable params: 17,425\n",
            "Non-trainable params: 0\n",
            "_________________________________________________________________\n"
          ]
        }
      ]
    },
    {
      "cell_type": "code",
      "source": [
        "bangladesh_cp = ModelCheckpoint('bangladesh_model/', save_best_only=True)\n",
        "bangladesh_history = History()\n",
        "bangladesh_model.compile(loss=MeanSquaredError(), optimizer=Adam(learning_rate=0.001), metrics=[RootMeanSquaredError()])"
      ],
      "metadata": {
        "id": "dvYs6mmtW73G"
      },
      "execution_count": 39,
      "outputs": []
    },
    {
      "cell_type": "code",
      "source": [
        "bangladesh_model.fit(bangladesh_X_train, bangladesh_y_train, validation_data=(bangladesh_X_val, bangladesh_y_val), epochs=10, callbacks=[bangladesh_cp, bangladesh_history])"
      ],
      "metadata": {
        "colab": {
          "base_uri": "https://localhost:8080/"
        },
        "id": "UK13_jUZW70R",
        "outputId": "8bb52e22-1141-463d-a1cb-45975463cccb"
      },
      "execution_count": 40,
      "outputs": [
        {
          "output_type": "stream",
          "name": "stdout",
          "text": [
            "Epoch 1/10\n",
            "71/72 [============================>.] - ETA: 0s - loss: 571.2119 - root_mean_squared_error: 23.9000"
          ]
        },
        {
          "output_type": "stream",
          "name": "stderr",
          "text": [
            "WARNING:absl:Found untraced functions such as lstm_cell_5_layer_call_fn, lstm_cell_5_layer_call_and_return_conditional_losses while saving (showing 2 of 2). These functions will not be directly callable after loading.\n"
          ]
        },
        {
          "output_type": "stream",
          "name": "stdout",
          "text": [
            "\b\b\b\b\b\b\b\b\b\b\b\b\b\b\b\b\b\b\b\b\b\b\b\b\b\b\b\b\b\b\b\b\b\b\b\b\b\b\b\b\b\b\b\b\b\b\b\b\b\b\b\b\b\b\b\b\b\b\b\b\b\b\b\b\b\b\b\b\b\b\b\b\b\b\b\b\b\b\b\b\b\b\b\b\b\b\b\b\b\b\b\b\b\b\b\b\b\b\b\b\r72/72 [==============================] - 8s 88ms/step - loss: 570.9965 - root_mean_squared_error: 23.8955 - val_loss: 477.4702 - val_root_mean_squared_error: 21.8511\n",
            "Epoch 2/10\n",
            "71/72 [============================>.] - ETA: 0s - loss: 315.4737 - root_mean_squared_error: 17.7616"
          ]
        },
        {
          "output_type": "stream",
          "name": "stderr",
          "text": [
            "WARNING:absl:Found untraced functions such as lstm_cell_5_layer_call_fn, lstm_cell_5_layer_call_and_return_conditional_losses while saving (showing 2 of 2). These functions will not be directly callable after loading.\n"
          ]
        },
        {
          "output_type": "stream",
          "name": "stdout",
          "text": [
            "\b\b\b\b\b\b\b\b\b\b\b\b\b\b\b\b\b\b\b\b\b\b\b\b\b\b\b\b\b\b\b\b\b\b\b\b\b\b\b\b\b\b\b\b\b\b\b\b\b\b\b\b\b\b\b\b\b\b\b\b\b\b\b\b\b\b\b\b\b\b\b\b\b\b\b\b\b\b\b\b\b\b\b\b\b\b\b\b\b\b\b\b\b\b\b\b\b\b\b\b\r72/72 [==============================] - 5s 72ms/step - loss: 315.2240 - root_mean_squared_error: 17.7545 - val_loss: 178.9955 - val_root_mean_squared_error: 13.3789\n",
            "Epoch 3/10\n",
            "67/72 [==========================>...] - ETA: 0s - loss: 87.8495 - root_mean_squared_error: 9.3728"
          ]
        },
        {
          "output_type": "stream",
          "name": "stderr",
          "text": [
            "WARNING:absl:Found untraced functions such as lstm_cell_5_layer_call_fn, lstm_cell_5_layer_call_and_return_conditional_losses while saving (showing 2 of 2). These functions will not be directly callable after loading.\n"
          ]
        },
        {
          "output_type": "stream",
          "name": "stdout",
          "text": [
            "\b\b\b\b\b\b\b\b\b\b\b\b\b\b\b\b\b\b\b\b\b\b\b\b\b\b\b\b\b\b\b\b\b\b\b\b\b\b\b\b\b\b\b\b\b\b\b\b\b\b\b\b\b\b\b\b\b\b\b\b\b\b\b\b\b\b\b\b\b\b\b\b\b\b\b\b\b\b\b\b\b\b\b\b\b\b\b\b\b\b\b\b\b\b\b\b\b\b\r72/72 [==============================] - 5s 75ms/step - loss: 84.6480 - root_mean_squared_error: 9.2004 - val_loss: 34.8172 - val_root_mean_squared_error: 5.9006\n",
            "Epoch 4/10\n",
            "64/72 [=========================>....] - ETA: 0s - loss: 19.9737 - root_mean_squared_error: 4.4692"
          ]
        },
        {
          "output_type": "stream",
          "name": "stderr",
          "text": [
            "WARNING:absl:Found untraced functions such as lstm_cell_5_layer_call_fn, lstm_cell_5_layer_call_and_return_conditional_losses while saving (showing 2 of 2). These functions will not be directly callable after loading.\n"
          ]
        },
        {
          "output_type": "stream",
          "name": "stdout",
          "text": [
            "\b\b\b\b\b\b\b\b\b\b\b\b\b\b\b\b\b\b\b\b\b\b\b\b\b\b\b\b\b\b\b\b\b\b\b\b\b\b\b\b\b\b\b\b\b\b\b\b\b\b\b\b\b\b\b\b\b\b\b\b\b\b\b\b\b\b\b\b\b\b\b\b\b\b\b\b\b\b\b\b\b\b\b\b\b\b\b\b\b\b\b\b\b\b\b\b\b\b\r72/72 [==============================] - 6s 86ms/step - loss: 19.5356 - root_mean_squared_error: 4.4199 - val_loss: 15.1615 - val_root_mean_squared_error: 3.8938\n",
            "Epoch 5/10\n",
            "69/72 [===========================>..] - ETA: 0s - loss: 14.8342 - root_mean_squared_error: 3.8515"
          ]
        },
        {
          "output_type": "stream",
          "name": "stderr",
          "text": [
            "WARNING:absl:Found untraced functions such as lstm_cell_5_layer_call_fn, lstm_cell_5_layer_call_and_return_conditional_losses while saving (showing 2 of 2). These functions will not be directly callable after loading.\n"
          ]
        },
        {
          "output_type": "stream",
          "name": "stdout",
          "text": [
            "\b\b\b\b\b\b\b\b\b\b\b\b\b\b\b\b\b\b\b\b\b\b\b\b\b\b\b\b\b\b\b\b\b\b\b\b\b\b\b\b\b\b\b\b\b\b\b\b\b\b\b\b\b\b\b\b\b\b\b\b\b\b\b\b\b\b\b\b\b\b\b\b\b\b\b\b\b\b\b\b\b\b\b\b\b\b\b\b\b\b\b\b\b\b\b\b\b\b\r72/72 [==============================] - 5s 74ms/step - loss: 14.8044 - root_mean_squared_error: 3.8477 - val_loss: 14.3563 - val_root_mean_squared_error: 3.7890\n",
            "Epoch 6/10\n",
            "72/72 [==============================] - ETA: 0s - loss: 14.7324 - root_mean_squared_error: 3.8383"
          ]
        },
        {
          "output_type": "stream",
          "name": "stderr",
          "text": [
            "WARNING:absl:Found untraced functions such as lstm_cell_5_layer_call_fn, lstm_cell_5_layer_call_and_return_conditional_losses while saving (showing 2 of 2). These functions will not be directly callable after loading.\n"
          ]
        },
        {
          "output_type": "stream",
          "name": "stdout",
          "text": [
            "\b\b\b\b\b\b\b\b\b\b\b\b\b\b\b\b\b\b\b\b\b\b\b\b\b\b\b\b\b\b\b\b\b\b\b\b\b\b\b\b\b\b\b\b\b\b\b\b\b\b\b\b\b\b\b\b\b\b\b\b\b\b\b\b\b\b\b\b\b\b\b\b\b\b\b\b\b\b\b\b\b\b\b\b\b\b\b\b\b\b\b\b\b\b\b\b\b\b\r72/72 [==============================] - 5s 71ms/step - loss: 14.7324 - root_mean_squared_error: 3.8383 - val_loss: 14.2440 - val_root_mean_squared_error: 3.7741\n",
            "Epoch 7/10\n",
            "70/72 [============================>.] - ETA: 0s - loss: 14.3066 - root_mean_squared_error: 3.7824"
          ]
        },
        {
          "output_type": "stream",
          "name": "stderr",
          "text": [
            "WARNING:absl:Found untraced functions such as lstm_cell_5_layer_call_fn, lstm_cell_5_layer_call_and_return_conditional_losses while saving (showing 2 of 2). These functions will not be directly callable after loading.\n"
          ]
        },
        {
          "output_type": "stream",
          "name": "stdout",
          "text": [
            "\b\b\b\b\b\b\b\b\b\b\b\b\b\b\b\b\b\b\b\b\b\b\b\b\b\b\b\b\b\b\b\b\b\b\b\b\b\b\b\b\b\b\b\b\b\b\b\b\b\b\b\b\b\b\b\b\b\b\b\b\b\b\b\b\b\b\b\b\b\b\b\b\b\b\b\b\b\b\b\b\b\b\b\b\b\b\b\b\b\b\b\b\b\b\b\b\b\b\r72/72 [==============================] - 7s 98ms/step - loss: 14.3046 - root_mean_squared_error: 3.7821 - val_loss: 13.7973 - val_root_mean_squared_error: 3.7145\n",
            "Epoch 8/10\n",
            "71/72 [============================>.] - ETA: 0s - loss: 12.6873 - root_mean_squared_error: 3.5619"
          ]
        },
        {
          "output_type": "stream",
          "name": "stderr",
          "text": [
            "WARNING:absl:Found untraced functions such as lstm_cell_5_layer_call_fn, lstm_cell_5_layer_call_and_return_conditional_losses while saving (showing 2 of 2). These functions will not be directly callable after loading.\n"
          ]
        },
        {
          "output_type": "stream",
          "name": "stdout",
          "text": [
            "\b\b\b\b\b\b\b\b\b\b\b\b\b\b\b\b\b\b\b\b\b\b\b\b\b\b\b\b\b\b\b\b\b\b\b\b\b\b\b\b\b\b\b\b\b\b\b\b\b\b\b\b\b\b\b\b\b\b\b\b\b\b\b\b\b\b\b\b\b\b\b\b\b\b\b\b\b\b\b\b\b\b\b\b\b\b\b\b\b\b\b\b\b\b\b\b\b\b\r72/72 [==============================] - 5s 73ms/step - loss: 12.6976 - root_mean_squared_error: 3.5634 - val_loss: 11.5065 - val_root_mean_squared_error: 3.3921\n",
            "Epoch 9/10\n",
            "70/72 [============================>.] - ETA: 0s - loss: 9.7397 - root_mean_squared_error: 3.1209"
          ]
        },
        {
          "output_type": "stream",
          "name": "stderr",
          "text": [
            "WARNING:absl:Found untraced functions such as lstm_cell_5_layer_call_fn, lstm_cell_5_layer_call_and_return_conditional_losses while saving (showing 2 of 2). These functions will not be directly callable after loading.\n"
          ]
        },
        {
          "output_type": "stream",
          "name": "stdout",
          "text": [
            "\b\b\b\b\b\b\b\b\b\b\b\b\b\b\b\b\b\b\b\b\b\b\b\b\b\b\b\b\b\b\b\b\b\b\b\b\b\b\b\b\b\b\b\b\b\b\b\b\b\b\b\b\b\b\b\b\b\b\b\b\b\b\b\b\b\b\b\b\b\b\b\b\b\b\b\b\b\b\b\b\b\b\b\b\b\b\b\b\b\b\b\b\b\b\b\b\b\r72/72 [==============================] - 5s 73ms/step - loss: 9.6817 - root_mean_squared_error: 3.1115 - val_loss: 7.9236 - val_root_mean_squared_error: 2.8149\n",
            "Epoch 10/10\n",
            "72/72 [==============================] - ETA: 0s - loss: 6.7491 - root_mean_squared_error: 2.5979"
          ]
        },
        {
          "output_type": "stream",
          "name": "stderr",
          "text": [
            "WARNING:absl:Found untraced functions such as lstm_cell_5_layer_call_fn, lstm_cell_5_layer_call_and_return_conditional_losses while saving (showing 2 of 2). These functions will not be directly callable after loading.\n"
          ]
        },
        {
          "output_type": "stream",
          "name": "stdout",
          "text": [
            "\b\b\b\b\b\b\b\b\b\b\b\b\b\b\b\b\b\b\b\b\b\b\b\b\b\b\b\b\b\b\b\b\b\b\b\b\b\b\b\b\b\b\b\b\b\b\b\b\b\b\b\b\b\b\b\b\b\b\b\b\b\b\b\b\b\b\b\b\b\b\b\b\b\b\b\b\b\b\b\b\b\b\b\b\b\b\b\b\b\b\b\b\b\b\b\b\b\r72/72 [==============================] - 6s 85ms/step - loss: 6.7491 - root_mean_squared_error: 2.5979 - val_loss: 5.6558 - val_root_mean_squared_error: 2.3782\n"
          ]
        },
        {
          "output_type": "execute_result",
          "data": {
            "text/plain": [
              "<keras.callbacks.History at 0x7f8e3a186690>"
            ]
          },
          "metadata": {},
          "execution_count": 40
        }
      ]
    },
    {
      "cell_type": "code",
      "source": [
        "plt.plot(bangladesh_model.history.history['val_loss'])\n",
        "plt.title('Val Loss')"
      ],
      "metadata": {
        "colab": {
          "base_uri": "https://localhost:8080/",
          "height": 298
        },
        "id": "XWM5_SnuW7xr",
        "outputId": "0fc7503b-dc93-4ee7-db6f-09abe3612177"
      },
      "execution_count": 41,
      "outputs": [
        {
          "output_type": "execute_result",
          "data": {
            "text/plain": [
              "Text(0.5, 1.0, 'Val Loss')"
            ]
          },
          "metadata": {},
          "execution_count": 41
        },
        {
          "output_type": "display_data",
          "data": {
            "text/plain": [
              "<Figure size 432x288 with 1 Axes>"
            ],
            "image/png": "[encoded data removed]"
          },
          "metadata": {
            "needs_background": "light"
          }
        }
      ]
    },
    {
      "cell_type": "code",
      "source": [
        "bangladesh_model = load_model('bangladesh_model/')\n",
        "bangladesh_train_predictions = bangladesh_model.predict(bangladesh_X_train).flatten()\n",
        "bangladesh_train_results = pd.DataFrame(data={'Train Predictions': bangladesh_train_predictions, 'Actuals':bangladesh_y_train})\n",
        "# afghan_train_results"
      ],
      "metadata": {
        "colab": {
          "base_uri": "https://localhost:8080/"
        },
        "id": "PA57CwhQW7uz",
        "outputId": "3a90b3eb-3005-43f4-96b8-4c289ac78e09"
      },
      "execution_count": 42,
      "outputs": [
        {
          "output_type": "stream",
          "name": "stdout",
          "text": [
            "72/72 [==============================] - 1s 3ms/step\n"
          ]
        }
      ]
    },
    {
      "cell_type": "code",
      "source": [
        "bangladesh_test_predictions = bangladesh_model.predict(bangladesh_X_test).flatten()\n",
        "bangladesh_test_results = pd.DataFrame(data={'Test Predictions': bangladesh_test_predictions, 'Actuals':bangladesh_y_test})\n",
        "bangladesh_test_results[\"Difference\"] = abs(bangladesh_test_results[\"Actuals\"] - bangladesh_test_results[\"Test Predictions\"])\n",
        "bangladesh_average_accuracy = bangladesh_test_results[\"Difference\"].mean()\n",
        "print(\"On Average, the mean difference between our predictions and actuals for our\", len(bangladesh_test_results), \"test data points is:\", bangladesh_average_accuracy)"
      ],
      "metadata": {
        "colab": {
          "base_uri": "https://localhost:8080/"
        },
        "id": "Ow0e-GpWW7r8",
        "outputId": "7aa8f793-b56c-4049-ca96-2fd1c7a3ff74"
      },
      "execution_count": 43,
      "outputs": [
        {
          "output_type": "stream",
          "name": "stdout",
          "text": [
            "5/5 [==============================] - 0s 4ms/step\n",
            "On Average, the mean difference between our predictions and actuals for our 147 test data points is: 2.1728771744293427\n"
          ]
        }
      ]
    },
    {
      "cell_type": "code",
      "source": [
        "plt.plot(bangladesh_test_results['Test Predictions'])\n",
        "plt.plot(bangladesh_test_results['Actuals'])"
      ],
      "metadata": {
        "colab": {
          "base_uri": "https://localhost:8080/",
          "height": 284
        },
        "id": "4gFXPWwzW7pD",
        "outputId": "95be6569-d8b9-415f-9f63-eda6f37aec74"
      },
      "execution_count": 45,
      "outputs": [
        {
          "output_type": "execute_result",
          "data": {
            "text/plain": [
              "[<matplotlib.lines.Line2D at 0x7f8e419eb850>]"
            ]
          },
          "metadata": {},
          "execution_count": 45
        },
        {
          "output_type": "display_data",
          "data": {
            "text/plain": [
              "<Figure size 432x288 with 1 Axes>"
            ],
            "image/png": "[encoded data removed]"
          },
          "metadata": {
            "needs_background": "light"
          }
        }
      ]
    },
    {
      "cell_type": "code",
      "source": [],
      "metadata": {
        "id": "l-anA9tYW7mM"
      },
      "execution_count": null,
      "outputs": []
    },
    {
      "cell_type": "code",
      "source": [],
      "metadata": {
        "id": "G-YHR4kzW7jU"
      },
      "execution_count": null,
      "outputs": []
    },
    {
      "cell_type": "code",
      "source": [],
      "metadata": {
        "id": "Gd3RtTo6W7c6"
      },
      "execution_count": null,
      "outputs": []
    },
    {
      "cell_type": "markdown",
      "source": [
        "# Chad"
      ],
      "metadata": {
        "id": "u9B8DsswwsmC"
      }
    },
    {
      "cell_type": "code",
      "source": [
        "chad_final, chad_final_temp_only = clean_df(chad)\n",
        "chad_final.head()"
      ],
      "metadata": {
        "colab": {
          "base_uri": "https://localhost:8080/",
          "height": 0
        },
        "id": "m9moztOSwrxk",
        "outputId": "971aecbb-ca71-4155-dec4-9e1680bc247e"
      },
      "execution_count": 28,
      "outputs": [
        {
          "output_type": "execute_result",
          "data": {
            "text/plain": [
              "             Date  AverageTemperature\n",
              "106355 1856-01-01              21.544\n",
              "106356 1856-02-01              22.771\n",
              "106357 1856-03-01              26.617\n",
              "106358 1856-04-01              29.054\n",
              "106359 1856-05-01              30.311"
            ],
            "text/html": [
              "\n",
              "  <div id=\"df-a36a9e7d-e68b-48c9-a116-edae50f0643e\">\n",
              "    <div class=\"colab-df-container\">\n",
              "      <div>\n",
              "<style scoped>\n",
              "    .dataframe tbody tr th:only-of-type {\n",
              "        vertical-align: middle;\n",
              "    }\n",
              "\n",
              "    .dataframe tbody tr th {\n",
              "        vertical-align: top;\n",
              "    }\n",
              "\n",
              "    .dataframe thead th {\n",
              "        text-align: right;\n",
              "    }\n",
              "</style>\n",
              "<table border=\"1\" class=\"dataframe\">\n",
              "  <thead>\n",
              "    <tr style=\"text-align: right;\">\n",
              "      <th></th>\n",
              "      <th>Date</th>\n",
              "      <th>AverageTemperature</th>\n",
              "    </tr>\n",
              "  </thead>\n",
              "  <tbody>\n",
              "    <tr>\n",
              "      <th>106355</th>\n",
              "      <td>1856-01-01</td>\n",
              "      <td>21.544</td>\n",
              "    </tr>\n",
              "    <tr>\n",
              "      <th>106356</th>\n",
              "      <td>1856-02-01</td>\n",
              "      <td>22.771</td>\n",
              "    </tr>\n",
              "    <tr>\n",
              "      <th>106357</th>\n",
              "      <td>1856-03-01</td>\n",
              "      <td>26.617</td>\n",
              "    </tr>\n",
              "    <tr>\n",
              "      <th>106358</th>\n",
              "      <td>1856-04-01</td>\n",
              "      <td>29.054</td>\n",
              "    </tr>\n",
              "    <tr>\n",
              "      <th>106359</th>\n",
              "      <td>1856-05-01</td>\n",
              "      <td>30.311</td>\n",
              "    </tr>\n",
              "  </tbody>\n",
              "</table>\n",
              "</div>\n",
              "      <button class=\"colab-df-convert\" onclick=\"convertToInteractive('df-a36a9e7d-e68b-48c9-a116-edae50f0643e')\"\n",
              "              title=\"Convert this dataframe to an interactive table.\"\n",
              "              style=\"display:none;\">\n",
              "        \n",
              "  <svg xmlns=\"http://www.w3.org/2000/svg\" height=\"24px\"viewBox=\"0 0 24 24\"\n",
              "       width=\"24px\">\n",
              "    <path d=\"M0 0h24v24H0V0z\" fill=\"none\"/>\n",
              "    <path d=\"M18.56 5.44l.94 2.06.94-2.06 2.06-.94-2.06-.94-.94-2.06-.94 2.06-2.06.94zm-11 1L8.5 8.5l.94-2.06 2.06-.94-2.06-.94L8.5 2.5l-.94 2.06-2.06.94zm10 10l.94 2.06.94-2.06 2.06-.94-2.06-.94-.94-2.06-.94 2.06-2.06.94z\"/><path d=\"M17.41 7.96l-1.37-1.37c-.4-.4-.92-.59-1.43-.59-.52 0-1.04.2-1.43.59L10.3 9.45l-7.72 7.72c-.78.78-.78 2.05 0 2.83L4 21.41c.39.39.9.59 1.41.59.51 0 1.02-.2 1.41-.59l7.78-7.78 2.81-2.81c.8-.78.8-2.07 0-2.86zM5.41 20L4 18.59l7.72-7.72 1.47 1.35L5.41 20z\"/>\n",
              "  </svg>\n",
              "      </button>\n",
              "      \n",
              "  <style>\n",
              "    .colab-df-container {\n",
              "      display:flex;\n",
              "      flex-wrap:wrap;\n",
              "      gap: 12px;\n",
              "    }\n",
              "\n",
              "    .colab-df-convert {\n",
              "      background-color: #E8F0FE;\n",
              "      border: none;\n",
              "      border-radius: 50%;\n",
              "      cursor: pointer;\n",
              "      display: none;\n",
              "      fill: #1967D2;\n",
              "      height: 32px;\n",
              "      padding: 0 0 0 0;\n",
              "      width: 32px;\n",
              "    }\n",
              "\n",
              "    .colab-df-convert:hover {\n",
              "      background-color: #E2EBFA;\n",
              "      box-shadow: 0px 1px 2px rgba(60, 64, 67, 0.3), 0px 1px 3px 1px rgba(60, 64, 67, 0.15);\n",
              "      fill: #174EA6;\n",
              "    }\n",
              "\n",
              "    [theme=dark] .colab-df-convert {\n",
              "      background-color: #3B4455;\n",
              "      fill: #D2E3FC;\n",
              "    }\n",
              "\n",
              "    [theme=dark] .colab-df-convert:hover {\n",
              "      background-color: #434B5C;\n",
              "      box-shadow: 0px 1px 3px 1px rgba(0, 0, 0, 0.15);\n",
              "      filter: drop-shadow(0px 1px 2px rgba(0, 0, 0, 0.3));\n",
              "      fill: #FFFFFF;\n",
              "    }\n",
              "  </style>\n",
              "\n",
              "      <script>\n",
              "        const buttonEl =\n",
              "          document.querySelector('#df-a36a9e7d-e68b-48c9-a116-edae50f0643e button.colab-df-convert');\n",
              "        buttonEl.style.display =\n",
              "          google.colab.kernel.accessAllowed ? 'block' : 'none';\n",
              "\n",
              "        async function convertToInteractive(key) {\n",
              "          const element = document.querySelector('#df-a36a9e7d-e68b-48c9-a116-edae50f0643e');\n",
              "          const dataTable =\n",
              "            await google.colab.kernel.invokeFunction('convertToInteractive',\n",
              "                                                     [key], {});\n",
              "          if (!dataTable) return;\n",
              "\n",
              "          const docLinkHtml = 'Like what you see? Visit the ' +\n",
              "            '<a target=\"_blank\" href=https://colab.research.google.com/notebooks/data_table.ipynb>data table notebook</a>'\n",
              "            + ' to learn more about interactive tables.';\n",
              "          element.innerHTML = '';\n",
              "          dataTable['output_type'] = 'display_data';\n",
              "          await google.colab.output.renderOutput(dataTable, element);\n",
              "          const docLink = document.createElement('div');\n",
              "          docLink.innerHTML = docLinkHtml;\n",
              "          element.appendChild(docLink);\n",
              "        }\n",
              "      </script>\n",
              "    </div>\n",
              "  </div>\n",
              "  "
            ]
          },
          "metadata": {},
          "execution_count": 28
        }
      ]
    },
    {
      "cell_type": "markdown",
      "source": [
        " # Haiti"
      ],
      "metadata": {
        "id": "7_5qtoAtwwf4"
      }
    },
    {
      "cell_type": "code",
      "source": [
        "haiti_final, haiti_final_temp_only = clean_df(haiti)\n",
        "haiti_final.head()"
      ],
      "metadata": {
        "colab": {
          "base_uri": "https://localhost:8080/",
          "height": 0
        },
        "id": "lY2bIaR3wuzB",
        "outputId": "74000ac6-1474-4ee8-cc0e-ad990589f58c"
      },
      "execution_count": 29,
      "outputs": [
        {
          "output_type": "execute_result",
          "data": {
            "text/plain": [
              "             Date  AverageTemperature\n",
              "229802 1824-01-01              24.987\n",
              "229803 1824-02-01              23.994\n",
              "229804 1824-03-01              25.808\n",
              "229805 1824-04-01              25.650\n",
              "229806 1824-05-01              26.703"
            ],
            "text/html": [
              "\n",
              "  <div id=\"df-8e0da7db-8578-4253-ba38-c9abe4542eb8\">\n",
              "    <div class=\"colab-df-container\">\n",
              "      <div>\n",
              "<style scoped>\n",
              "    .dataframe tbody tr th:only-of-type {\n",
              "        vertical-align: middle;\n",
              "    }\n",
              "\n",
              "    .dataframe tbody tr th {\n",
              "        vertical-align: top;\n",
              "    }\n",
              "\n",
              "    .dataframe thead th {\n",
              "        text-align: right;\n",
              "    }\n",
              "</style>\n",
              "<table border=\"1\" class=\"dataframe\">\n",
              "  <thead>\n",
              "    <tr style=\"text-align: right;\">\n",
              "      <th></th>\n",
              "      <th>Date</th>\n",
              "      <th>AverageTemperature</th>\n",
              "    </tr>\n",
              "  </thead>\n",
              "  <tbody>\n",
              "    <tr>\n",
              "      <th>229802</th>\n",
              "      <td>1824-01-01</td>\n",
              "      <td>24.987</td>\n",
              "    </tr>\n",
              "    <tr>\n",
              "      <th>229803</th>\n",
              "      <td>1824-02-01</td>\n",
              "      <td>23.994</td>\n",
              "    </tr>\n",
              "    <tr>\n",
              "      <th>229804</th>\n",
              "      <td>1824-03-01</td>\n",
              "      <td>25.808</td>\n",
              "    </tr>\n",
              "    <tr>\n",
              "      <th>229805</th>\n",
              "      <td>1824-04-01</td>\n",
              "      <td>25.650</td>\n",
              "    </tr>\n",
              "    <tr>\n",
              "      <th>229806</th>\n",
              "      <td>1824-05-01</td>\n",
              "      <td>26.703</td>\n",
              "    </tr>\n",
              "  </tbody>\n",
              "</table>\n",
              "</div>\n",
              "      <button class=\"colab-df-convert\" onclick=\"convertToInteractive('df-8e0da7db-8578-4253-ba38-c9abe4542eb8')\"\n",
              "              title=\"Convert this dataframe to an interactive table.\"\n",
              "              style=\"display:none;\">\n",
              "        \n",
              "  <svg xmlns=\"http://www.w3.org/2000/svg\" height=\"24px\"viewBox=\"0 0 24 24\"\n",
              "       width=\"24px\">\n",
              "    <path d=\"M0 0h24v24H0V0z\" fill=\"none\"/>\n",
              "    <path d=\"M18.56 5.44l.94 2.06.94-2.06 2.06-.94-2.06-.94-.94-2.06-.94 2.06-2.06.94zm-11 1L8.5 8.5l.94-2.06 2.06-.94-2.06-.94L8.5 2.5l-.94 2.06-2.06.94zm10 10l.94 2.06.94-2.06 2.06-.94-2.06-.94-.94-2.06-.94 2.06-2.06.94z\"/><path d=\"M17.41 7.96l-1.37-1.37c-.4-.4-.92-.59-1.43-.59-.52 0-1.04.2-1.43.59L10.3 9.45l-7.72 7.72c-.78.78-.78 2.05 0 2.83L4 21.41c.39.39.9.59 1.41.59.51 0 1.02-.2 1.41-.59l7.78-7.78 2.81-2.81c.8-.78.8-2.07 0-2.86zM5.41 20L4 18.59l7.72-7.72 1.47 1.35L5.41 20z\"/>\n",
              "  </svg>\n",
              "      </button>\n",
              "      \n",
              "  <style>\n",
              "    .colab-df-container {\n",
              "      display:flex;\n",
              "      flex-wrap:wrap;\n",
              "      gap: 12px;\n",
              "    }\n",
              "\n",
              "    .colab-df-convert {\n",
              "      background-color: #E8F0FE;\n",
              "      border: none;\n",
              "      border-radius: 50%;\n",
              "      cursor: pointer;\n",
              "      display: none;\n",
              "      fill: #1967D2;\n",
              "      height: 32px;\n",
              "      padding: 0 0 0 0;\n",
              "      width: 32px;\n",
              "    }\n",
              "\n",
              "    .colab-df-convert:hover {\n",
              "      background-color: #E2EBFA;\n",
              "      box-shadow: 0px 1px 2px rgba(60, 64, 67, 0.3), 0px 1px 3px 1px rgba(60, 64, 67, 0.15);\n",
              "      fill: #174EA6;\n",
              "    }\n",
              "\n",
              "    [theme=dark] .colab-df-convert {\n",
              "      background-color: #3B4455;\n",
              "      fill: #D2E3FC;\n",
              "    }\n",
              "\n",
              "    [theme=dark] .colab-df-convert:hover {\n",
              "      background-color: #434B5C;\n",
              "      box-shadow: 0px 1px 3px 1px rgba(0, 0, 0, 0.15);\n",
              "      filter: drop-shadow(0px 1px 2px rgba(0, 0, 0, 0.3));\n",
              "      fill: #FFFFFF;\n",
              "    }\n",
              "  </style>\n",
              "\n",
              "      <script>\n",
              "        const buttonEl =\n",
              "          document.querySelector('#df-8e0da7db-8578-4253-ba38-c9abe4542eb8 button.colab-df-convert');\n",
              "        buttonEl.style.display =\n",
              "          google.colab.kernel.accessAllowed ? 'block' : 'none';\n",
              "\n",
              "        async function convertToInteractive(key) {\n",
              "          const element = document.querySelector('#df-8e0da7db-8578-4253-ba38-c9abe4542eb8');\n",
              "          const dataTable =\n",
              "            await google.colab.kernel.invokeFunction('convertToInteractive',\n",
              "                                                     [key], {});\n",
              "          if (!dataTable) return;\n",
              "\n",
              "          const docLinkHtml = 'Like what you see? Visit the ' +\n",
              "            '<a target=\"_blank\" href=https://colab.research.google.com/notebooks/data_table.ipynb>data table notebook</a>'\n",
              "            + ' to learn more about interactive tables.';\n",
              "          element.innerHTML = '';\n",
              "          dataTable['output_type'] = 'display_data';\n",
              "          await google.colab.output.renderOutput(dataTable, element);\n",
              "          const docLink = document.createElement('div');\n",
              "          docLink.innerHTML = docLinkHtml;\n",
              "          element.appendChild(docLink);\n",
              "        }\n",
              "      </script>\n",
              "    </div>\n",
              "  </div>\n",
              "  "
            ]
          },
          "metadata": {},
          "execution_count": 29
        }
      ]
    },
    {
      "cell_type": "code",
      "source": [],
      "metadata": {
        "id": "6Vk6xo86xMei"
      },
      "execution_count": 29,
      "outputs": []
    }
  ]
}